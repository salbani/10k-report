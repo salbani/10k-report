{
 "cells": [
  {
   "cell_type": "code",
   "execution_count": 4,
   "id": "183a72fa",
   "metadata": {},
   "outputs": [],
   "source": [
    "import os\n",
    "\n",
    "current_dir = os.getcwd()\n",
    "project_dir = os.path.abspath(os.path.join(current_dir, \"..\"))\n",
    "data_dir = os.path.join(project_dir, \"data\")\n",
    "output_dir = os.path.join(project_dir, \"output\")\n",
    "reports_dir = os.path.join(project_dir, \"sec-reports/\")"
   ]
  },
  {
   "cell_type": "code",
   "execution_count": 5,
   "id": "1c56b73d",
   "metadata": {},
   "outputs": [],
   "source": [
    "from company import Company\n",
    "from report_analyzer import ReportAnalyzer\n",
    "\n",
    "report_analyzer = ReportAnalyzer(data_dir, reports_dir, output_dir)\n",
    "\n",
    "company = Company(\"ATRION CORP\", \"0000701288\")"
   ]
  },
  {
   "cell_type": "code",
   "execution_count": null,
   "id": "dfdf281e",
   "metadata": {},
   "outputs": [
    {
     "data": {
      "text/plain": [
       "ReportAnalyzeResult(year=2013, accession_number='0001157523-13-001345', word_count=2378028, keyword_frequencies={'algorithm': 0, 'analytics': 0, 'app': 0, 'artificial intelligence': 0, 'AI': 4, 'automate': 0, 'automatize': 0, 'beta': 0, 'version': 1, 'big data': 0, 'bitcoin': 0, 'byte': 0, 'cashless': 0, 'chip': 0, 'cloud': 0, 'cloud computing': 0, 'cloud-management': 0, 'code': 7, 'coding': 0, 'computer': 6, 'crypto': 0, 'cyber': 0, 'data call': 0, 'data science': 0, 'digital': 0, 'digitalization': 0, 'digitization': 0, 'digitize': 0, 'dot com': 0, 'download': 0, 'e-learning': 0, 'e-mail': 0, 'email': 0, 'electronic network': 0, 'geo-fencing': 0, 'gigabyte': 0, 'inbox': 0, 'information technology': 0, 'IT': 34, 'interface': 0, 'internet': 0, 'internet of things': 0, 'IoT': 0, 'internet protocol': 0, 'IP': 5, 'laptop': 0, 'metaverse': 0, 'mobile': 0, 'mobile phone': 0, 'non-fungible token': 0, 'NFT': 0, 'online': 0, 'open source': 0, 'operating system': 0, 'OS': 6, 'platform': 0, 'post': 0, 'posting': 0, 'remote': 0, 'robot': 0, 'search engine advertising': 0, 'SEA': 0, 'search engine optimization': 0, 'SEO': 0, 'self-driving': 0, 'smartphone': 0, 'SMS': 1, 'social network': 0, 'stream': 0, 'streaming': 0, 'tablet': 0, 'tag': 0, 'tagging': 0, 'techie': 0, 'track': 0, 'tracking': 0, 'user experience': 0, 'virtual': 0, 'web': 0, 'WiFi': 0, 'wireless': 0, 'world wide web': 0, 'WWW': 1106, 'blog': 0, 'chatbot': 0, 'click': 0, 'content filter': 0, 'content marketing': 0, 'cookie': 0, 'crowdsource': 0, 'crowdsourcing': 0, 'e-book': 0, 'ecommerce': 0, 'e-commerce': 0, 'electronic market': 0, 'homepage': 0, 'landing page': 0, 'location based targeting': 0, 'new media': 0, 'paid search': 0, 'product review': 0, 'recommender system': 0, 'retarget': 0, 'retargeting': 0, 'search engine': 0, 'sharing economy': 0, 'smart home': 0, 'social media': 0, 'tweet': 0, 'user generated content': 0, 'website': 2, 'automatic': 0, 'blockchain': 0, 'compute': 0, 'data': 411, 'data scientist': 0, 'developer': 0, 'global positioning system': 0, 'GPS': 0, 'hardware': 0, 'machine learning': 0, 'programmer': 0, 'programming': 0, 'remote work': 0, 'server': 0, 'software': 4, 'videoconference': 0, 'videoconferencing': 0, 'webinar': 0})"
      ]
     },
     "execution_count": 6,
     "metadata": {},
     "output_type": "execute_result"
    }
   ],
   "source": [
    "report_analyzer.analyze_report(\"/Users/simon/Workspace/10k-report/sec-reports/sec-edgar-filings/0000701288/10-K/0001157523-13-001345/full-submission.txt\")"
   ]
  },
  {
   "cell_type": "code",
   "execution_count": null,
   "id": "5491ab6e",
   "metadata": {},
   "outputs": [],
   "source": []
  }
 ],
 "metadata": {
  "kernelspec": {
   "display_name": ".venv",
   "language": "python",
   "name": "python3"
  },
  "language_info": {
   "codemirror_mode": {
    "name": "ipython",
    "version": 3
   },
   "file_extension": ".py",
   "mimetype": "text/x-python",
   "name": "python",
   "nbconvert_exporter": "python",
   "pygments_lexer": "ipython3",
   "version": "3.13.5"
  }
 },
 "nbformat": 4,
 "nbformat_minor": 5
}
